{
 "cells": [
  {
   "cell_type": "markdown",
   "metadata": {},
   "source": [
    "# HangiKredi Case Study: Term Deposit Marketing\n",
    "## 1- Classification using XGBoost"
   ]
  },
  {
   "cell_type": "code",
   "execution_count": 1,
   "metadata": {},
   "outputs": [],
   "source": [
    "import numpy as np\n",
    "import pandas as pd\n",
    "import xgboost as xgb\n",
    "from sklearn.model_selection import KFold\n",
    "from sklearn.metrics import classification_report\n",
    "from sklearn.metrics import confusion_matrix\n",
    "from sklearn.metrics import accuracy_score\n",
    "from sklearn.preprocessing import OrdinalEncoder"
   ]
  },
  {
   "cell_type": "code",
   "execution_count": 2,
   "metadata": {},
   "outputs": [],
   "source": [
    "df = pd.read_csv('/home/saif/Documents/term-deposit-marketing-2020.csv')"
   ]
  },
  {
   "cell_type": "code",
   "execution_count": 3,
   "metadata": {},
   "outputs": [
    {
     "data": {
      "text/plain": [
       "age          0\n",
       "job          0\n",
       "marital      0\n",
       "education    0\n",
       "default      0\n",
       "balance      0\n",
       "housing      0\n",
       "loan         0\n",
       "contact      0\n",
       "day          0\n",
       "month        0\n",
       "duration     0\n",
       "campaign     0\n",
       "y            0\n",
       "dtype: int64"
      ]
     },
     "execution_count": 3,
     "metadata": {},
     "output_type": "execute_result"
    }
   ],
   "source": [
    "df.isna().sum()"
   ]
  },
  {
   "cell_type": "markdown",
   "metadata": {},
   "source": [
    "No missing values"
   ]
  },
  {
   "cell_type": "code",
   "execution_count": 4,
   "metadata": {},
   "outputs": [],
   "source": [
    "# Encode categorical columns to numbers\n",
    "\n",
    "# Categorical boolean mask\n",
    "categorical_feature_mask = df.dtypes==object\n",
    "# filter categorical columns using mask and turn it into a list\n",
    "categorical_cols = df.columns[categorical_feature_mask].tolist()\n",
    "# Instantiate encoder\n",
    "enc = OrdinalEncoder()\n",
    "# Encode\n",
    "df[categorical_cols] = enc.fit_transform(df[categorical_cols]).astype('int64')"
   ]
  },
  {
   "cell_type": "markdown",
   "metadata": {},
   "source": [
    "Display information about the dataset:"
   ]
  },
  {
   "cell_type": "code",
   "execution_count": 5,
   "metadata": {},
   "outputs": [
    {
     "name": "stdout",
     "output_type": "stream",
     "text": [
      "<class 'pandas.core.frame.DataFrame'>\n",
      "RangeIndex: 40000 entries, 0 to 39999\n",
      "Data columns (total 14 columns):\n",
      " #   Column     Non-Null Count  Dtype\n",
      "---  ------     --------------  -----\n",
      " 0   age        40000 non-null  int64\n",
      " 1   job        40000 non-null  int64\n",
      " 2   marital    40000 non-null  int64\n",
      " 3   education  40000 non-null  int64\n",
      " 4   default    40000 non-null  int64\n",
      " 5   balance    40000 non-null  int64\n",
      " 6   housing    40000 non-null  int64\n",
      " 7   loan       40000 non-null  int64\n",
      " 8   contact    40000 non-null  int64\n",
      " 9   day        40000 non-null  int64\n",
      " 10  month      40000 non-null  int64\n",
      " 11  duration   40000 non-null  int64\n",
      " 12  campaign   40000 non-null  int64\n",
      " 13  y          40000 non-null  int64\n",
      "dtypes: int64(14)\n",
      "memory usage: 4.3 MB\n"
     ]
    }
   ],
   "source": [
    "df.info()"
   ]
  },
  {
   "cell_type": "code",
   "execution_count": 6,
   "metadata": {},
   "outputs": [
    {
     "data": {
      "text/html": [
       "<div>\n",
       "<style scoped>\n",
       "    .dataframe tbody tr th:only-of-type {\n",
       "        vertical-align: middle;\n",
       "    }\n",
       "\n",
       "    .dataframe tbody tr th {\n",
       "        vertical-align: top;\n",
       "    }\n",
       "\n",
       "    .dataframe thead th {\n",
       "        text-align: right;\n",
       "    }\n",
       "</style>\n",
       "<table border=\"1\" class=\"dataframe\">\n",
       "  <thead>\n",
       "    <tr style=\"text-align: right;\">\n",
       "      <th></th>\n",
       "      <th>age</th>\n",
       "      <th>job</th>\n",
       "      <th>marital</th>\n",
       "      <th>education</th>\n",
       "      <th>default</th>\n",
       "      <th>balance</th>\n",
       "      <th>housing</th>\n",
       "      <th>loan</th>\n",
       "      <th>contact</th>\n",
       "      <th>day</th>\n",
       "      <th>month</th>\n",
       "      <th>duration</th>\n",
       "      <th>campaign</th>\n",
       "      <th>y</th>\n",
       "    </tr>\n",
       "  </thead>\n",
       "  <tbody>\n",
       "    <tr>\n",
       "      <th>count</th>\n",
       "      <td>40000.000000</td>\n",
       "      <td>40000.000000</td>\n",
       "      <td>40000.000000</td>\n",
       "      <td>40000.000000</td>\n",
       "      <td>40000.000000</td>\n",
       "      <td>40000.000000</td>\n",
       "      <td>40000.000000</td>\n",
       "      <td>40000.000000</td>\n",
       "      <td>40000.000000</td>\n",
       "      <td>40000.000000</td>\n",
       "      <td>40000.000000</td>\n",
       "      <td>40000.000000</td>\n",
       "      <td>40000.000000</td>\n",
       "      <td>40000.000000</td>\n",
       "    </tr>\n",
       "    <tr>\n",
       "      <th>mean</th>\n",
       "      <td>40.544600</td>\n",
       "      <td>4.266050</td>\n",
       "      <td>1.154100</td>\n",
       "      <td>1.199950</td>\n",
       "      <td>0.020225</td>\n",
       "      <td>1274.277550</td>\n",
       "      <td>0.600775</td>\n",
       "      <td>0.173250</td>\n",
       "      <td>0.696275</td>\n",
       "      <td>16.017225</td>\n",
       "      <td>5.509525</td>\n",
       "      <td>254.824300</td>\n",
       "      <td>2.882175</td>\n",
       "      <td>0.072400</td>\n",
       "    </tr>\n",
       "    <tr>\n",
       "      <th>std</th>\n",
       "      <td>9.641776</td>\n",
       "      <td>3.291229</td>\n",
       "      <td>0.605485</td>\n",
       "      <td>0.741643</td>\n",
       "      <td>0.140771</td>\n",
       "      <td>2903.769716</td>\n",
       "      <td>0.489745</td>\n",
       "      <td>0.378468</td>\n",
       "      <td>0.921817</td>\n",
       "      <td>8.278127</td>\n",
       "      <td>2.909522</td>\n",
       "      <td>259.366498</td>\n",
       "      <td>3.239051</td>\n",
       "      <td>0.259152</td>\n",
       "    </tr>\n",
       "    <tr>\n",
       "      <th>min</th>\n",
       "      <td>19.000000</td>\n",
       "      <td>0.000000</td>\n",
       "      <td>0.000000</td>\n",
       "      <td>0.000000</td>\n",
       "      <td>0.000000</td>\n",
       "      <td>-8019.000000</td>\n",
       "      <td>0.000000</td>\n",
       "      <td>0.000000</td>\n",
       "      <td>0.000000</td>\n",
       "      <td>1.000000</td>\n",
       "      <td>0.000000</td>\n",
       "      <td>0.000000</td>\n",
       "      <td>1.000000</td>\n",
       "      <td>0.000000</td>\n",
       "    </tr>\n",
       "    <tr>\n",
       "      <th>25%</th>\n",
       "      <td>33.000000</td>\n",
       "      <td>1.000000</td>\n",
       "      <td>1.000000</td>\n",
       "      <td>1.000000</td>\n",
       "      <td>0.000000</td>\n",
       "      <td>54.000000</td>\n",
       "      <td>0.000000</td>\n",
       "      <td>0.000000</td>\n",
       "      <td>0.000000</td>\n",
       "      <td>8.000000</td>\n",
       "      <td>3.000000</td>\n",
       "      <td>100.000000</td>\n",
       "      <td>1.000000</td>\n",
       "      <td>0.000000</td>\n",
       "    </tr>\n",
       "    <tr>\n",
       "      <th>50%</th>\n",
       "      <td>39.000000</td>\n",
       "      <td>4.000000</td>\n",
       "      <td>1.000000</td>\n",
       "      <td>1.000000</td>\n",
       "      <td>0.000000</td>\n",
       "      <td>407.000000</td>\n",
       "      <td>1.000000</td>\n",
       "      <td>0.000000</td>\n",
       "      <td>0.000000</td>\n",
       "      <td>17.000000</td>\n",
       "      <td>6.000000</td>\n",
       "      <td>175.000000</td>\n",
       "      <td>2.000000</td>\n",
       "      <td>0.000000</td>\n",
       "    </tr>\n",
       "    <tr>\n",
       "      <th>75%</th>\n",
       "      <td>48.000000</td>\n",
       "      <td>7.000000</td>\n",
       "      <td>2.000000</td>\n",
       "      <td>2.000000</td>\n",
       "      <td>0.000000</td>\n",
       "      <td>1319.000000</td>\n",
       "      <td>1.000000</td>\n",
       "      <td>0.000000</td>\n",
       "      <td>2.000000</td>\n",
       "      <td>21.000000</td>\n",
       "      <td>8.000000</td>\n",
       "      <td>313.000000</td>\n",
       "      <td>3.000000</td>\n",
       "      <td>0.000000</td>\n",
       "    </tr>\n",
       "    <tr>\n",
       "      <th>max</th>\n",
       "      <td>95.000000</td>\n",
       "      <td>11.000000</td>\n",
       "      <td>2.000000</td>\n",
       "      <td>3.000000</td>\n",
       "      <td>1.000000</td>\n",
       "      <td>102127.000000</td>\n",
       "      <td>1.000000</td>\n",
       "      <td>1.000000</td>\n",
       "      <td>2.000000</td>\n",
       "      <td>31.000000</td>\n",
       "      <td>10.000000</td>\n",
       "      <td>4918.000000</td>\n",
       "      <td>63.000000</td>\n",
       "      <td>1.000000</td>\n",
       "    </tr>\n",
       "  </tbody>\n",
       "</table>\n",
       "</div>"
      ],
      "text/plain": [
       "                age           job       marital     education       default  \\\n",
       "count  40000.000000  40000.000000  40000.000000  40000.000000  40000.000000   \n",
       "mean      40.544600      4.266050      1.154100      1.199950      0.020225   \n",
       "std        9.641776      3.291229      0.605485      0.741643      0.140771   \n",
       "min       19.000000      0.000000      0.000000      0.000000      0.000000   \n",
       "25%       33.000000      1.000000      1.000000      1.000000      0.000000   \n",
       "50%       39.000000      4.000000      1.000000      1.000000      0.000000   \n",
       "75%       48.000000      7.000000      2.000000      2.000000      0.000000   \n",
       "max       95.000000     11.000000      2.000000      3.000000      1.000000   \n",
       "\n",
       "             balance       housing          loan       contact           day  \\\n",
       "count   40000.000000  40000.000000  40000.000000  40000.000000  40000.000000   \n",
       "mean     1274.277550      0.600775      0.173250      0.696275     16.017225   \n",
       "std      2903.769716      0.489745      0.378468      0.921817      8.278127   \n",
       "min     -8019.000000      0.000000      0.000000      0.000000      1.000000   \n",
       "25%        54.000000      0.000000      0.000000      0.000000      8.000000   \n",
       "50%       407.000000      1.000000      0.000000      0.000000     17.000000   \n",
       "75%      1319.000000      1.000000      0.000000      2.000000     21.000000   \n",
       "max    102127.000000      1.000000      1.000000      2.000000     31.000000   \n",
       "\n",
       "              month      duration      campaign             y  \n",
       "count  40000.000000  40000.000000  40000.000000  40000.000000  \n",
       "mean       5.509525    254.824300      2.882175      0.072400  \n",
       "std        2.909522    259.366498      3.239051      0.259152  \n",
       "min        0.000000      0.000000      1.000000      0.000000  \n",
       "25%        3.000000    100.000000      1.000000      0.000000  \n",
       "50%        6.000000    175.000000      2.000000      0.000000  \n",
       "75%        8.000000    313.000000      3.000000      0.000000  \n",
       "max       10.000000   4918.000000     63.000000      1.000000  "
      ]
     },
     "execution_count": 6,
     "metadata": {},
     "output_type": "execute_result"
    }
   ],
   "source": [
    "df.describe()"
   ]
  },
  {
   "cell_type": "code",
   "execution_count": 7,
   "metadata": {},
   "outputs": [],
   "source": [
    "# Generate Folds\n",
    "KF = KFold(n_splits = 5, shuffle = True, random_state=1)\n",
    "\n",
    "# XGBoost parameters\n",
    "param = {}\n",
    "param['objective'] = 'binary:logistic'"
   ]
  },
  {
   "cell_type": "code",
   "execution_count": 8,
   "metadata": {},
   "outputs": [
    {
     "name": "stdout",
     "output_type": "stream",
     "text": [
      "\n",
      "======== Fold 0 ========\n",
      "\n",
      "Accuracy: 93.5%\n",
      "\n",
      "Confusion Matrix:\n",
      "[[7163  272]\n",
      " [ 252  313]] \n",
      "\n",
      "Classification Report:\n",
      "              precision    recall  f1-score   support\n",
      "\n",
      "           0       0.97      0.96      0.96      7435\n",
      "           1       0.54      0.55      0.54       565\n",
      "\n",
      "    accuracy                           0.93      8000\n",
      "   macro avg       0.75      0.76      0.75      8000\n",
      "weighted avg       0.94      0.93      0.94      8000\n",
      "\n",
      "======== Fold 1 ========\n",
      "\n",
      "Accuracy: 93.2%\n",
      "\n",
      "Confusion Matrix:\n",
      "[[7151  293]\n",
      " [ 254  302]] \n",
      "\n",
      "Classification Report:\n",
      "              precision    recall  f1-score   support\n",
      "\n",
      "           0       0.97      0.96      0.96      7444\n",
      "           1       0.51      0.54      0.52       556\n",
      "\n",
      "    accuracy                           0.93      8000\n",
      "   macro avg       0.74      0.75      0.74      8000\n",
      "weighted avg       0.93      0.93      0.93      8000\n",
      "\n",
      "======== Fold 2 ========\n",
      "\n",
      "Accuracy: 93.0%\n",
      "\n",
      "Confusion Matrix:\n",
      "[[7094  308]\n",
      " [ 252  346]] \n",
      "\n",
      "Classification Report:\n",
      "              precision    recall  f1-score   support\n",
      "\n",
      "           0       0.97      0.96      0.96      7402\n",
      "           1       0.53      0.58      0.55       598\n",
      "\n",
      "    accuracy                           0.93      8000\n",
      "   macro avg       0.75      0.77      0.76      8000\n",
      "weighted avg       0.93      0.93      0.93      8000\n",
      "\n",
      "======== Fold 3 ========\n",
      "\n",
      "Accuracy: 92.8%\n",
      "\n",
      "Confusion Matrix:\n",
      "[[7123  308]\n",
      " [ 265  304]] \n",
      "\n",
      "Classification Report:\n",
      "              precision    recall  f1-score   support\n",
      "\n",
      "           0       0.96      0.96      0.96      7431\n",
      "           1       0.50      0.53      0.51       569\n",
      "\n",
      "    accuracy                           0.93      8000\n",
      "   macro avg       0.73      0.75      0.74      8000\n",
      "weighted avg       0.93      0.93      0.93      8000\n",
      "\n",
      "======== Fold 4 ========\n",
      "\n",
      "Accuracy: 92.7%\n",
      "\n",
      "Confusion Matrix:\n",
      "[[7093  299]\n",
      " [ 286  322]] \n",
      "\n",
      "Classification Report:\n",
      "              precision    recall  f1-score   support\n",
      "\n",
      "           0       0.96      0.96      0.96      7392\n",
      "           1       0.52      0.53      0.52       608\n",
      "\n",
      "    accuracy                           0.93      8000\n",
      "   macro avg       0.74      0.74      0.74      8000\n",
      "weighted avg       0.93      0.93      0.93      8000\n",
      "\n",
      "========================\n",
      "\n",
      "Average Accuracy: 93.0%\n",
      "\n",
      "************************\n"
     ]
    }
   ],
   "source": [
    "accs = [] # to store the accuracies of each fold\n",
    "evals = [] # to store evaluation details of each fold\n",
    "print('')\n",
    "for i,(train_ind, test_ind) in enumerate(KF.split(df)):\n",
    "    print('======== Fold',i,'========\\n')\n",
    "    # Train test split\n",
    "    X_train, X_test, y_train, y_test = df.iloc[train_ind, :-1], df.iloc[test_ind, :-1], df.iloc[train_ind, -1], df.iloc[test_ind, -1]\n",
    "    # Ratio to scale positive instances because of imbalance\n",
    "    ratio = (len(y_train)-sum(y_train))/sum(y_train)\n",
    "    param['scale_pos_weight'] = ratio\n",
    "    # Convert to XGBoost matrices \n",
    "    xtrn = xgb.DMatrix(X_train, label=y_train, feature_names=X_train.columns)\n",
    "    xtst = xgb.DMatrix(X_test, label=y_test, feature_names=X_test.columns)\n",
    "    # to be able to see the training progress of each fold\n",
    "    watchlist = [(xtrn, 'train'), (xtst, 'test')]\n",
    "    evals_result = {}\n",
    "    # Train\n",
    "    model = xgb.train(param, xtrn, 747, evals=watchlist, evals_result=evals_result, verbose_eval=False) \n",
    "    evals.append(evals_result)\n",
    "    pred = model.predict(xtst)\n",
    "    pred = pred > 0.5\n",
    "    # Report\n",
    "    acc = accuracy_score(y_test, pred)\n",
    "    accs.append(acc)\n",
    "    print('Accuracy: {:.1f}%\\n'.format(acc*100))\n",
    "    print('Confusion Matrix:')\n",
    "    print(confusion_matrix(y_test, pred), '\\n')\n",
    "    print('Classification Report:')\n",
    "    print(classification_report(y_test, pred))\n",
    "print('========================\\n')\n",
    "print('Average Accuracy: {:.1f}%\\n\\n************************'.format((sum(accs)/len(accs))*100))"
   ]
  },
  {
   "cell_type": "markdown",
   "metadata": {},
   "source": [
    "We see that an accuracy of 93% can be achieved on this dataset, and that classifying the positive label correctly is more difficult than classifying the negative label.\n",
    "## 2- Customers who are more likely to buy the investment product"
   ]
  },
  {
   "cell_type": "code",
   "execution_count": 10,
   "metadata": {},
   "outputs": [],
   "source": [
    "# Segment customers into three segments based on each numerical feature\n",
    "numerical_features = ['age', 'balance', 'duration', 'campaign']\n",
    "for feature in numerical_features:\n",
    "    sorted_inds = df[feature].argsort()\n",
    "    df[feature] = 2\n",
    "    df[feature][sorted_inds[:2*(len(df)//3)]] = 1\n",
    "    df[feature][sorted_inds[:len(df)//3]] = 0"
   ]
  },
  {
   "cell_type": "code",
   "execution_count": 11,
   "metadata": {},
   "outputs": [
    {
     "data": {
      "text/plain": [
       "age\n",
       "0    0.085352\n",
       "1    0.065252\n",
       "2    0.066597\n",
       "Name: y, dtype: float64"
      ]
     },
     "execution_count": 11,
     "metadata": {},
     "output_type": "execute_result"
    }
   ],
   "source": [
    "df.y.groupby(df['age']).mean()"
   ]
  },
  {
   "cell_type": "markdown",
   "metadata": {},
   "source": [
    "Younger customers have a higher tendency to buy"
   ]
  },
  {
   "cell_type": "code",
   "execution_count": 12,
   "metadata": {},
   "outputs": [
    {
     "data": {
      "text/plain": [
       "balance\n",
       "0    0.055876\n",
       "1    0.070352\n",
       "2    0.090970\n",
       "Name: y, dtype: float64"
      ]
     },
     "execution_count": 12,
     "metadata": {},
     "output_type": "execute_result"
    }
   ],
   "source": [
    "df.y.groupby(df['balance']).mean()"
   ]
  },
  {
   "cell_type": "markdown",
   "metadata": {},
   "source": [
    "Customers with a higher balance have a higher tendency to buy"
   ]
  },
  {
   "cell_type": "code",
   "execution_count": 13,
   "metadata": {},
   "outputs": [
    {
     "data": {
      "text/plain": [
       "duration\n",
       "0    0.008175\n",
       "1    0.027751\n",
       "2    0.181266\n",
       "Name: y, dtype: float64"
      ]
     },
     "execution_count": 13,
     "metadata": {},
     "output_type": "execute_result"
    }
   ],
   "source": [
    "df.y.groupby(df['duration']).mean()"
   ]
  },
  {
   "cell_type": "markdown",
   "metadata": {},
   "source": [
    "Customers with whom last contact duration was long have a **significantly** higher probability of buying"
   ]
  },
  {
   "cell_type": "code",
   "execution_count": 14,
   "metadata": {},
   "outputs": [
    {
     "data": {
      "text/plain": [
       "campaign\n",
       "0    0.092252\n",
       "1    0.065102\n",
       "2    0.059847\n",
       "Name: y, dtype: float64"
      ]
     },
     "execution_count": 14,
     "metadata": {},
     "output_type": "execute_result"
    }
   ],
   "source": [
    "df.y.groupby(df['campaign']).mean()"
   ]
  },
  {
   "cell_type": "markdown",
   "metadata": {},
   "source": [
    "Customers with a **lower** number of times contacted have a higher tendency to buy"
   ]
  },
  {
   "cell_type": "code",
   "execution_count": 15,
   "metadata": {},
   "outputs": [
    {
     "data": {
      "text/plain": [
       "loan\n",
       "0    0.076081\n",
       "1    0.054834\n",
       "Name: y, dtype: float64"
      ]
     },
     "execution_count": 15,
     "metadata": {},
     "output_type": "execute_result"
    }
   ],
   "source": [
    "df.y.groupby(df['loan']).mean()"
   ]
  },
  {
   "cell_type": "markdown",
   "metadata": {},
   "source": [
    "Customers who don't have a personal loan have a higher tendency to buy"
   ]
  },
  {
   "cell_type": "code",
   "execution_count": 16,
   "metadata": {},
   "outputs": [
    {
     "data": {
      "text/plain": [
       "default\n",
       "0    0.072644\n",
       "1    0.060569\n",
       "Name: y, dtype: float64"
      ]
     },
     "execution_count": 16,
     "metadata": {},
     "output_type": "execute_result"
    }
   ],
   "source": [
    "df.y.groupby(df['default']).mean()"
   ]
  },
  {
   "cell_type": "markdown",
   "metadata": {},
   "source": [
    "Customers who don't have a credit on default have a higher tendency to buy"
   ]
  },
  {
   "cell_type": "code",
   "execution_count": 17,
   "metadata": {
    "scrolled": true
   },
   "outputs": [
    {
     "data": {
      "text/plain": [
       "housing\n",
       "0    0.089674\n",
       "1    0.060921\n",
       "Name: y, dtype: float64"
      ]
     },
     "execution_count": 17,
     "metadata": {},
     "output_type": "execute_result"
    }
   ],
   "source": [
    "df.y.groupby(df['housing']).mean()"
   ]
  },
  {
   "cell_type": "markdown",
   "metadata": {},
   "source": [
    "Customers who don't have a housing loan have a higher tendency to buy"
   ]
  },
  {
   "cell_type": "code",
   "execution_count": 18,
   "metadata": {},
   "outputs": [],
   "source": [
    "df2 = pd.DataFrame(enc.inverse_transform(df[categorical_cols]), columns=categorical_cols)\n",
    "df2.y = df.y"
   ]
  },
  {
   "cell_type": "code",
   "execution_count": 19,
   "metadata": {},
   "outputs": [
    {
     "data": {
      "text/plain": [
       "education\n",
       "tertiary     0.091826\n",
       "secondary    0.067546\n",
       "unknown      0.062704\n",
       "primary      0.056300\n",
       "Name: y, dtype: float64"
      ]
     },
     "execution_count": 19,
     "metadata": {},
     "output_type": "execute_result"
    }
   ],
   "source": [
    "df2.y.groupby(df2['education']).mean().sort_values(ascending=False)"
   ]
  },
  {
   "cell_type": "markdown",
   "metadata": {},
   "source": [
    "Customers with tertiary education have a higher tendency to buy"
   ]
  },
  {
   "cell_type": "code",
   "execution_count": 20,
   "metadata": {},
   "outputs": [
    {
     "data": {
      "text/plain": [
       "job\n",
       "student          0.156489\n",
       "retired          0.105080\n",
       "unemployed       0.086957\n",
       "management       0.082782\n",
       "self-employed    0.079208\n",
       "admin            0.078296\n",
       "technician       0.072534\n",
       "unknown          0.072340\n",
       "entrepreneur     0.062633\n",
       "services         0.060870\n",
       "blue-collar      0.057018\n",
       "housemaid        0.048758\n",
       "Name: y, dtype: float64"
      ]
     },
     "execution_count": 20,
     "metadata": {},
     "output_type": "execute_result"
    }
   ],
   "source": [
    "df2.y.groupby(df2['job']).mean().sort_values(ascending=False)"
   ]
  },
  {
   "cell_type": "markdown",
   "metadata": {},
   "source": [
    "Students and retired customers have a higher tendency to buy"
   ]
  },
  {
   "cell_type": "code",
   "execution_count": 21,
   "metadata": {},
   "outputs": [
    {
     "data": {
      "text/plain": [
       "marital\n",
       "single      0.094315\n",
       "divorced    0.082751\n",
       "married     0.060609\n",
       "Name: y, dtype: float64"
      ]
     },
     "execution_count": 21,
     "metadata": {},
     "output_type": "execute_result"
    }
   ],
   "source": [
    "df2.y.groupby(df2['marital']).mean().sort_values(ascending=False)"
   ]
  },
  {
   "cell_type": "markdown",
   "metadata": {},
   "source": [
    "Single customers have a higher tendency to buy"
   ]
  },
  {
   "cell_type": "code",
   "execution_count": 22,
   "metadata": {},
   "outputs": [
    {
     "data": {
      "text/plain": [
       "contact\n",
       "cellular     0.089628\n",
       "telephone    0.071521\n",
       "unknown      0.038935\n",
       "Name: y, dtype: float64"
      ]
     },
     "execution_count": 22,
     "metadata": {},
     "output_type": "execute_result"
    }
   ],
   "source": [
    "df2.y.groupby(df2['contact']).mean().sort_values(ascending=False)"
   ]
  },
  {
   "cell_type": "markdown",
   "metadata": {},
   "source": [
    "Customers contacted through cellphone have a higher tendency to buy"
   ]
  },
  {
   "cell_type": "markdown",
   "metadata": {},
   "source": [
    "## 3- Most important features"
   ]
  },
  {
   "cell_type": "code",
   "execution_count": 23,
   "metadata": {},
   "outputs": [],
   "source": [
    "import matplotlib.pyplot as plt\n",
    "plt.rcParams[\"figure.figsize\"] = (12,8)"
   ]
  },
  {
   "cell_type": "code",
   "execution_count": 24,
   "metadata": {},
   "outputs": [
    {
     "data": {
      "text/plain": [
       "<matplotlib.axes._subplots.AxesSubplot at 0x7f64f1bfc390>"
      ]
     },
     "execution_count": 24,
     "metadata": {},
     "output_type": "execute_result"
    },
    {
     "data": {
      "image/png": "[encoded data removed]",
      "text/plain": [
       "<Figure size 864x576 with 1 Axes>"
      ]
     },
     "metadata": {
      "needs_background": "light"
     },
     "output_type": "display_data"
    }
   ],
   "source": [
    "xgb.plot_importance(model)"
   ]
  },
  {
   "cell_type": "markdown",
   "metadata": {},
   "source": [
    "We see that the last contact duration and the average yearly balance are more important in determining whether a client will subscribe to a term deposit."
   ]
  }
 ],
 "metadata": {
  "kernelspec": {
   "display_name": "xgboost",
   "language": "python",
   "name": "xgboost"
  },
  "language_info": {
   "codemirror_mode": {
    "name": "ipython",
    "version": 3
   },
   "file_extension": ".py",
   "mimetype": "text/x-python",
   "name": "python",
   "nbconvert_exporter": "python",
   "pygments_lexer": "ipython3",
   "version": "3.7.7"
  }
 },
 "nbformat": 4,
 "nbformat_minor": 4
}
